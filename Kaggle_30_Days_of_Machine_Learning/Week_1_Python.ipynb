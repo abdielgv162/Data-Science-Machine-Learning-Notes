{
 "cells": [
  {
   "cell_type": "markdown",
   "metadata": {
    "toc": true
   },
   "source": [
    "<h1>Tabla de contenidos 💜<span class=\"tocSkip\"></span></h1>\n",
    "<div class=\"toc\"><ul class=\"toc-item\"><li><span><a href=\"#1.-Python\" data-toc-modified-id=\"1.-Python-1\">1. Python</a></span><ul class=\"toc-item\"><li><span><a href=\"#Ejercicios\" data-toc-modified-id=\"Ejercicios-1.1\">Ejercicios</a></span><ul class=\"toc-item\"><li><span><a href=\"#1.1-Área-del-círculo:\" data-toc-modified-id=\"1.1-Área-del-círculo:-1.1.1\">1.1 Área del círculo:</a></span></li><li><span><a href=\"#1.2-Intercambio-de-variables:\" data-toc-modified-id=\"1.2-Intercambio-de-variables:-1.1.2\">1.2 Intercambio de variables:</a></span></li><li><span><a href=\"#1.3-Uso-de-paréntesis:\" data-toc-modified-id=\"1.3-Uso-de-paréntesis:-1.1.3\">1.3 Uso de paréntesis:</a></span></li><li><span><a href=\"#1.4-Repartiendo-dulces\" data-toc-modified-id=\"1.4-Repartiendo-dulces-1.1.4\">1.4 Repartiendo dulces</a></span></li></ul></li></ul></li><li><span><a href=\"#2.-Funciones\" data-toc-modified-id=\"2.-Funciones-2\">2. Funciones</a></span><ul class=\"toc-item\"><li><span><a href=\"#Ejercicios\" data-toc-modified-id=\"Ejercicios-2.1\">Ejercicios</a></span><ul class=\"toc-item\"><li><span><a href=\"#2.1-Redondear-un-número-2-decimales\" data-toc-modified-id=\"2.1-Redondear-un-número-2-decimales-2.1.1\">2.1 Redondear un número 2 decimales</a></span></li><li><span><a href=\"#2.2-Redondeo-con-parámetro-negativo\" data-toc-modified-id=\"2.2-Redondeo-con-parámetro-negativo-2.1.2\">2.2 Redondeo con parámetro negativo</a></span></li><li><span><a href=\"#2.3-Generalizando-el-ejercicio-de-los-dulces\" data-toc-modified-id=\"2.3-Generalizando-el-ejercicio-de-los-dulces-2.1.3\">2.3 Generalizando el ejercicio de los dulces</a></span></li></ul></li></ul></li><li><span><a href=\"#3.-Booleanos-y-condicionales\" data-toc-modified-id=\"3.-Booleanos-y-condicionales-3\">3. Booleanos y condicionales</a></span><ul class=\"toc-item\"><li><span><a href=\"#Ejercicios\" data-toc-modified-id=\"Ejercicios-3.1\">Ejercicios</a></span><ul class=\"toc-item\"><li><span><a href=\"#3.1-Obteniendo-el-signo-de-un-número\" data-toc-modified-id=\"3.1-Obteniendo-el-signo-de-un-número-3.1.1\">3.1 Obteniendo el signo de un número</a></span></li><li><span><a href=\"#3.2-Modificando-la-gramática-de-un-mensaje-de-salida\" data-toc-modified-id=\"3.2-Modificando-la-gramática-de-un-mensaje-de-salida-3.1.2\">3.2 Modificando la gramática de un mensaje de salida</a></span></li><li><span><a href=\"#3.3-Condicionales\" data-toc-modified-id=\"3.3-Condicionales-3.1.3\">3.3 Condicionales</a></span></li><li><span><a href=\"#3.4-Reduciendo-una-función\" data-toc-modified-id=\"3.4-Reduciendo-una-función-3.1.4\">3.4 Reduciendo una función</a></span></li><li><span><a href=\"#3.5-Trabajando-con-variables-booleanas\" data-toc-modified-id=\"3.5-Trabajando-con-variables-booleanas-3.1.5\">3.5 Trabajando con variables booleanas</a></span></li></ul></li></ul></li></ul></div>"
   ]
  },
  {
   "cell_type": "markdown",
   "metadata": {},
   "source": [
    "---"
   ]
  },
  {
   "cell_type": "markdown",
   "metadata": {},
   "source": [
    "Notebook a manera de resumen de las lecturas y ejercicios de la primera semana del Kaggle 30 Days of ML."
   ]
  },
  {
   "cell_type": "markdown",
   "metadata": {},
   "source": [
    "# 1. Python "
   ]
  },
  {
   "cell_type": "markdown",
   "metadata": {},
   "source": [
    "Comencemos por algo muy sencillo, recapitulando la sintaxis, asignación de variables, operadores aritméticos, entre otras cosas. Solo como un breve repaso y para mantener la cronología del challenge."
   ]
  },
  {
   "cell_type": "markdown",
   "metadata": {},
   "source": [
    "## Ejercicios"
   ]
  },
  {
   "cell_type": "markdown",
   "metadata": {},
   "source": [
    "### 1.1 Área del círculo:"
   ]
  },
  {
   "cell_type": "code",
   "execution_count": 14,
   "metadata": {},
   "outputs": [],
   "source": [
    "from math import pi \n",
    "\n",
    "diameter = 3"
   ]
  },
  {
   "cell_type": "code",
   "execution_count": 20,
   "metadata": {},
   "outputs": [
    {
     "name": "stdout",
     "output_type": "stream",
     "text": [
      "7.0685834705770345\n"
     ]
    }
   ],
   "source": [
    "radius = diameter / 2\n",
    "area = pi * (radius**2)\n",
    "print(area)"
   ]
  },
  {
   "cell_type": "markdown",
   "metadata": {},
   "source": [
    "### 1.2 Intercambio de variables:"
   ]
  },
  {
   "cell_type": "code",
   "execution_count": 19,
   "metadata": {},
   "outputs": [],
   "source": [
    "a = [1,2,3]\n",
    "b = [4,5,6]"
   ]
  },
  {
   "cell_type": "code",
   "execution_count": 21,
   "metadata": {},
   "outputs": [],
   "source": [
    "temp_var = a \n",
    "a = b\n",
    "b = temp_var"
   ]
  },
  {
   "cell_type": "code",
   "execution_count": 23,
   "metadata": {},
   "outputs": [
    {
     "name": "stdout",
     "output_type": "stream",
     "text": [
      "a: [4, 5, 6]\n",
      "b: [1, 2, 3]\n"
     ]
    }
   ],
   "source": [
    "print(f'a: {a}')\n",
    "print(f'b: {b}')"
   ]
  },
  {
   "cell_type": "markdown",
   "metadata": {},
   "source": [
    "### 1.3 Uso de paréntesis: "
   ]
  },
  {
   "cell_type": "markdown",
   "metadata": {},
   "source": [
    "Dados la siguiente operación:"
   ]
  },
  {
   "cell_type": "code",
   "execution_count": 26,
   "metadata": {},
   "outputs": [
    {
     "data": {
      "text/plain": [
       "2"
      ]
     },
     "execution_count": 26,
     "metadata": {},
     "output_type": "execute_result"
    }
   ],
   "source": [
    "8 - 3 * 2 - 1 + 1"
   ]
  },
  {
   "cell_type": "markdown",
   "metadata": {},
   "source": [
    "agrupar de tal forma que sea igual a 0:"
   ]
  },
  {
   "cell_type": "code",
   "execution_count": 27,
   "metadata": {},
   "outputs": [
    {
     "data": {
      "text/plain": [
       "0"
      ]
     },
     "execution_count": 27,
     "metadata": {},
     "output_type": "execute_result"
    }
   ],
   "source": [
    "8 - (3 * 2) - (1 + 1)"
   ]
  },
  {
   "cell_type": "markdown",
   "metadata": {},
   "source": [
    "### 1.4 Repartiendo dulces "
   ]
  },
  {
   "cell_type": "markdown",
   "metadata": {},
   "source": [
    "3 niños tienen cierta cantidad de dulces y quieren repartirlos de manera equitativa entre ellos, de forma que si sobra un dulce lo repartirán en 3 pedazos. Por ejemplo, si tienen 91 dulces, les tocan 30 a cada quien y sobra 1 que quedará pendiente por romper y repartir."
   ]
  },
  {
   "cell_type": "code",
   "execution_count": 45,
   "metadata": {},
   "outputs": [],
   "source": [
    "child_1_candies = 121\n",
    "child_2_candies = 77\n",
    "child_3_candies = 109"
   ]
  },
  {
   "cell_type": "code",
   "execution_count": 46,
   "metadata": {},
   "outputs": [
    {
     "data": {
      "text/plain": [
       "307"
      ]
     },
     "execution_count": 46,
     "metadata": {},
     "output_type": "execute_result"
    }
   ],
   "source": [
    "total = child_1_candies+ child_2_candies + child_3_candies\n",
    "total"
   ]
  },
  {
   "cell_type": "code",
   "execution_count": 47,
   "metadata": {},
   "outputs": [
    {
     "data": {
      "text/plain": [
       "102"
      ]
     },
     "execution_count": 47,
     "metadata": {},
     "output_type": "execute_result"
    }
   ],
   "source": [
    "# Parte entera de la división\n",
    "total_parcial = total // 3\n",
    "total_parcial"
   ]
  },
  {
   "cell_type": "code",
   "execution_count": 48,
   "metadata": {},
   "outputs": [
    {
     "data": {
      "text/plain": [
       "1"
      ]
     },
     "execution_count": 48,
     "metadata": {},
     "output_type": "execute_result"
    }
   ],
   "source": [
    "# Dulces por romper\n",
    "crash = total - (total_parcial*3)\n",
    "crash"
   ]
  },
  {
   "cell_type": "code",
   "execution_count": 50,
   "metadata": {},
   "outputs": [
    {
     "data": {
      "text/plain": [
       "1"
      ]
     },
     "execution_count": 50,
     "metadata": {},
     "output_type": "execute_result"
    }
   ],
   "source": [
    "# O más fácilmente con \n",
    "crash = total % 3\n",
    "crash"
   ]
  },
  {
   "cell_type": "markdown",
   "metadata": {},
   "source": [
    "---"
   ]
  },
  {
   "cell_type": "markdown",
   "metadata": {},
   "source": [
    "# 2. Funciones"
   ]
  },
  {
   "cell_type": "markdown",
   "metadata": {},
   "source": [
    "## Ejercicios"
   ]
  },
  {
   "cell_type": "markdown",
   "metadata": {},
   "source": [
    "### 2.1 Redondear un número 2 decimales"
   ]
  },
  {
   "cell_type": "code",
   "execution_count": 54,
   "metadata": {},
   "outputs": [],
   "source": [
    "def round_to_two_places(num):\n",
    "    num = round(num, 2)\n",
    "    return num"
   ]
  },
  {
   "cell_type": "code",
   "execution_count": 55,
   "metadata": {},
   "outputs": [
    {
     "data": {
      "text/plain": [
       "3.14"
      ]
     },
     "execution_count": 55,
     "metadata": {},
     "output_type": "execute_result"
    }
   ],
   "source": [
    "from math import pi\n",
    "\n",
    "num = pi\n",
    "round_to_two_places(pi)"
   ]
  },
  {
   "cell_type": "markdown",
   "metadata": {},
   "source": [
    "### 2.2 Redondeo con parámetro negativo"
   ]
  },
  {
   "cell_type": "code",
   "execution_count": 95,
   "metadata": {},
   "outputs": [
    {
     "data": {
      "text/plain": [
       "12350.0"
      ]
     },
     "execution_count": 95,
     "metadata": {},
     "output_type": "execute_result"
    }
   ],
   "source": [
    "num = 12345.123456\n",
    "round(num, -1)"
   ]
  },
  {
   "cell_type": "code",
   "execution_count": 96,
   "metadata": {},
   "outputs": [
    {
     "data": {
      "text/plain": [
       "12300.0"
      ]
     },
     "execution_count": 96,
     "metadata": {},
     "output_type": "execute_result"
    }
   ],
   "source": [
    "round(num, -2)"
   ]
  },
  {
   "cell_type": "code",
   "execution_count": 97,
   "metadata": {},
   "outputs": [
    {
     "data": {
      "text/plain": [
       "12000.0"
      ]
     },
     "execution_count": 97,
     "metadata": {},
     "output_type": "execute_result"
    }
   ],
   "source": [
    "round(num, -3)"
   ]
  },
  {
   "cell_type": "markdown",
   "metadata": {},
   "source": [
    "podemos ver que al indicar el segundo argumento como negativo nos redondea la parte antes del punto, por ejemplo, con `-1` omite los decimales después del punto; con `-2` redondea hasta las centenas, obviando el 50. Y finalmente, al hacerlo con `-3` nos redondea omitiendo el 345. \n",
    "\n",
    "Esto es muy útil cuando hablamos de cantidades muy grandes y realmente no nos interesa tener ese grado de precisión."
   ]
  },
  {
   "cell_type": "markdown",
   "metadata": {},
   "source": [
    "### 2.3 Generalizando el ejercicio de los dulces"
   ]
  },
  {
   "cell_type": "markdown",
   "metadata": {},
   "source": [
    "Básicamente vamos a hacer lo mismo, pero para un número cualquiera de niños y de dulces:"
   ]
  },
  {
   "cell_type": "code",
   "execution_count": 1,
   "metadata": {},
   "outputs": [],
   "source": [
    "def split_and_smash():\n",
    "    n_chil = int(input('Ingrese la cantidad de niños :'))\n",
    "    print('\\n')\n",
    "    total_candies = 0\n",
    "    for i in range(n_chil):\n",
    "        candies_i = int(input(f'Ingrese la cantidad de dulces del niñ@ {i+1}: '))\n",
    "        total_candies = total_candies + candies_i\n",
    "    print(f'\\nCantidad total de dulces: {total_candies}')\n",
    "    candies_per_child = total_candies // n_chil\n",
    "    print(f'Dulces enteros por niñ@: {candies_per_child}')\n",
    "    to_smash = total_candies % n_chil\n",
    "    print(f'Dulces por romper: {to_smash}')"
   ]
  },
  {
   "cell_type": "code",
   "execution_count": 3,
   "metadata": {},
   "outputs": [
    {
     "name": "stdout",
     "output_type": "stream",
     "text": [
      "Ingrese la cantidad de niños :5\n",
      "\n",
      "\n",
      "Ingrese la cantidad de dulces del niñ@ 1: 1\n",
      "Ingrese la cantidad de dulces del niñ@ 2: 2\n",
      "Ingrese la cantidad de dulces del niñ@ 3: 3\n",
      "Ingrese la cantidad de dulces del niñ@ 4: 4\n",
      "Ingrese la cantidad de dulces del niñ@ 5: 6\n",
      "\n",
      "Cantidad total de dulces: 16\n",
      "Dulces enteros por niñ@: 3\n",
      "Dulces por romper: 1\n"
     ]
    }
   ],
   "source": [
    "split_and_smash()"
   ]
  },
  {
   "cell_type": "markdown",
   "metadata": {},
   "source": [
    "---"
   ]
  },
  {
   "cell_type": "markdown",
   "metadata": {},
   "source": [
    "# 3. Booleanos y condicionales"
   ]
  },
  {
   "cell_type": "markdown",
   "metadata": {},
   "source": [
    "## Ejercicios"
   ]
  },
  {
   "cell_type": "markdown",
   "metadata": {},
   "source": [
    "### 3.1 Obteniendo el signo de un número"
   ]
  },
  {
   "cell_type": "markdown",
   "metadata": {},
   "source": [
    "Retorna `0` si es 0, `1` si es positivo y `-1` si es negativo."
   ]
  },
  {
   "cell_type": "code",
   "execution_count": 5,
   "metadata": {},
   "outputs": [],
   "source": [
    "def sign(x):\n",
    "    \n",
    "    if x == 0:\n",
    "        return 0\n",
    "    elif x < 0:\n",
    "        return -1\n",
    "    elif x > 0:\n",
    "        return +1\n",
    "    else:\n",
    "        print('Incorrect Entry')"
   ]
  },
  {
   "cell_type": "code",
   "execution_count": 7,
   "metadata": {},
   "outputs": [
    {
     "data": {
      "text/plain": [
       "1"
      ]
     },
     "execution_count": 7,
     "metadata": {},
     "output_type": "execute_result"
    }
   ],
   "source": [
    "sign(10)"
   ]
  },
  {
   "cell_type": "code",
   "execution_count": 8,
   "metadata": {},
   "outputs": [
    {
     "data": {
      "text/plain": [
       "-1"
      ]
     },
     "execution_count": 8,
     "metadata": {},
     "output_type": "execute_result"
    }
   ],
   "source": [
    "sign(-10)"
   ]
  },
  {
   "cell_type": "markdown",
   "metadata": {},
   "source": [
    "### 3.2 Modificando la gramática de un mensaje de salida"
   ]
  },
  {
   "cell_type": "code",
   "execution_count": 26,
   "metadata": {},
   "outputs": [],
   "source": [
    "def to_smash(total_candies):\n",
    "    \n",
    "    if total_candies == 1:\n",
    "        a = 'candy'\n",
    "    elif total_candies > 1:\n",
    "        a = 'candies'\n",
    "        \n",
    "    try:\n",
    "        print('Splitting', total_candies, f'{a}')\n",
    "    except UnboundLocalError:\n",
    "        print('La entrada debe de ser un entero mayor a 0')\n",
    "    \n",
    "    split = total_candies % 3 \n",
    "    \n",
    "    return split"
   ]
  },
  {
   "cell_type": "code",
   "execution_count": 27,
   "metadata": {},
   "outputs": [
    {
     "name": "stdout",
     "output_type": "stream",
     "text": [
      "La entrada debe de ser un entero mayor a 0\n"
     ]
    },
    {
     "data": {
      "text/plain": [
       "0"
      ]
     },
     "execution_count": 27,
     "metadata": {},
     "output_type": "execute_result"
    }
   ],
   "source": [
    "to_smash(0)"
   ]
  },
  {
   "cell_type": "code",
   "execution_count": 28,
   "metadata": {},
   "outputs": [
    {
     "name": "stdout",
     "output_type": "stream",
     "text": [
      "Splitting 1 candy\n"
     ]
    },
    {
     "data": {
      "text/plain": [
       "1"
      ]
     },
     "execution_count": 28,
     "metadata": {},
     "output_type": "execute_result"
    }
   ],
   "source": [
    "to_smash(1)"
   ]
  },
  {
   "cell_type": "code",
   "execution_count": 29,
   "metadata": {},
   "outputs": [
    {
     "name": "stdout",
     "output_type": "stream",
     "text": [
      "Splitting 100 candies\n"
     ]
    },
    {
     "data": {
      "text/plain": [
       "1"
      ]
     },
     "execution_count": 29,
     "metadata": {},
     "output_type": "execute_result"
    }
   ],
   "source": [
    "to_smash(100)"
   ]
  },
  {
   "cell_type": "markdown",
   "metadata": {},
   "source": [
    "### 3.3 Condicionales"
   ]
  },
  {
   "cell_type": "markdown",
   "metadata": {},
   "source": [
    "Crear una función que trabaje con los siguientes valores lógicos para cumplir con la condición de un buen clima. \n",
    "\n",
    "- I have an umbrella...\n",
    "- or if the rain isn't too heavy and I have a hood...\n",
    "- otherwise, I'm still fine unless it's raining *and* it's a workday\n"
   ]
  },
  {
   "cell_type": "code",
   "execution_count": 30,
   "metadata": {},
   "outputs": [],
   "source": [
    "def good_weather(umbrella, rain, hood, workday):\n",
    "    return (umbrella)  or ((rain < 5) and hood) or (not(rain) and workday)"
   ]
  },
  {
   "cell_type": "markdown",
   "metadata": {},
   "source": [
    "### 3.4 Reduciendo una función"
   ]
  },
  {
   "cell_type": "markdown",
   "metadata": {},
   "source": [
    "La siguiente función es correcta, pero puede realizarse en menos lineas de código. Encontrar una solución.\n"
   ]
  },
  {
   "cell_type": "code",
   "execution_count": 51,
   "metadata": {},
   "outputs": [],
   "source": [
    "def is_negative(number):\n",
    "    if number < 0:\n",
    "        return True\n",
    "    else:\n",
    "        return False"
   ]
  },
  {
   "cell_type": "code",
   "execution_count": 52,
   "metadata": {},
   "outputs": [
    {
     "data": {
      "text/plain": [
       "False"
      ]
     },
     "execution_count": 52,
     "metadata": {},
     "output_type": "execute_result"
    }
   ],
   "source": [
    "is_negative(3)"
   ]
  },
  {
   "cell_type": "code",
   "execution_count": 54,
   "metadata": {},
   "outputs": [
    {
     "data": {
      "text/plain": [
       "True"
      ]
     },
     "execution_count": 54,
     "metadata": {},
     "output_type": "execute_result"
    }
   ],
   "source": [
    "is_negative(-3)"
   ]
  },
  {
   "cell_type": "markdown",
   "metadata": {},
   "source": [
    "No hay necesidad de escribir los 2 casos ya que podemos obtener directamente el valor al realizar la comparación:"
   ]
  },
  {
   "cell_type": "code",
   "execution_count": 55,
   "metadata": {},
   "outputs": [],
   "source": [
    "def negative_second(number):\n",
    "    return number < 0"
   ]
  },
  {
   "cell_type": "code",
   "execution_count": 56,
   "metadata": {},
   "outputs": [
    {
     "data": {
      "text/plain": [
       "False"
      ]
     },
     "execution_count": 56,
     "metadata": {},
     "output_type": "execute_result"
    }
   ],
   "source": [
    "negative_second(3) "
   ]
  },
  {
   "cell_type": "code",
   "execution_count": 57,
   "metadata": {},
   "outputs": [
    {
     "data": {
      "text/plain": [
       "True"
      ]
     },
     "execution_count": 57,
     "metadata": {},
     "output_type": "execute_result"
    }
   ],
   "source": [
    "negative_second(-3)"
   ]
  },
  {
   "cell_type": "markdown",
   "metadata": {},
   "source": [
    "### 3.5 Trabajando con variables booleanas"
   ]
  },
  {
   "cell_type": "code",
   "execution_count": null,
   "metadata": {},
   "outputs": [],
   "source": []
  }
 ],
 "metadata": {
  "kernelspec": {
   "display_name": "Python 3",
   "language": "python",
   "name": "python3"
  },
  "language_info": {
   "codemirror_mode": {
    "name": "ipython",
    "version": 3
   },
   "file_extension": ".py",
   "mimetype": "text/x-python",
   "name": "python",
   "nbconvert_exporter": "python",
   "pygments_lexer": "ipython3",
   "version": "3.8.3"
  },
  "toc": {
   "base_numbering": 1,
   "nav_menu": {},
   "number_sections": false,
   "sideBar": true,
   "skip_h1_title": false,
   "title_cell": "Tabla de contenidos 💜",
   "title_sidebar": "Contents",
   "toc_cell": true,
   "toc_position": {},
   "toc_section_display": true,
   "toc_window_display": false
  }
 },
 "nbformat": 4,
 "nbformat_minor": 4
}
